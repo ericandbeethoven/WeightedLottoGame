{
 "cells": [
  {
   "cell_type": "code",
   "execution_count": null,
   "id": "scheduled-czech",
   "metadata": {},
   "outputs": [],
   "source": []
  },
  {
   "cell_type": "code",
   "execution_count": 1,
   "id": "antique-observation",
   "metadata": {},
   "outputs": [
    {
     "name": "stdout",
     "output_type": "stream",
     "text": [
      "   Seed                Team      Entrant\n",
      "0    64  North Dakota State  gcvik 2_139\n",
      "1    63        Gardner-Webb     cc 8_144\n",
      "2    62   Abilene Christian  PPVIP 3_152\n",
      "3    61             Bradley  gcvik 1_173\n",
      "4    60             Colgate     LD 4_154\n",
      "5    59             Montana  gcvik 2_173\n",
      "6    58   Northern Kentucky  gcvik 1_190\n",
      "7    57       Georgia State  gcvik 3_150\n",
      "\n",
      "    Seed            Team      Entrant\n",
      "56     8        Michigan  PPVIP 2_101\n",
      "57     7        Kentucky  gcvik 4_192\n",
      "58     6       Tennessee  PPVIP 3_140\n",
      "59     5  Michigan State  PPVIP 3_103\n",
      "60     4         Gonzaga     cc 4_160\n",
      "61     3  North Carolina     LD 1_193\n",
      "62     2        Virginia     cc 3_185\n",
      "63     1            Duke     LD 2_108\n"
     ]
    }
   ],
   "source": [
    "import numpy as np\n",
    "import pandas as pd\n",
    "\n",
    "# Functioned used\n",
    "def weighted_lottery(weights):\n",
    "    container_list = []\n",
    "\n",
    "    for (name, weight) in weights.items():\n",
    "        for _ in range(weight):\n",
    "            container_list.append(name)\n",
    "\n",
    "    return np.random.choice(container_list)\n",
    "\n",
    "#Step 1 - Initialize seeds, loto_balls and lotto_results\n",
    "# College Team Seeds from 64 to 1\n",
    "input_file = 'bb_seeds.xlsx'\n",
    "df_seeds = pd.read_excel(input_file)\n",
    "seeds = df_seeds[[\"Seed\", \"Team\"]]\n",
    "\n",
    "# Lotto Ball Weights\n",
    "input_file = 'lotto_balls.xlsx'\n",
    "lotto_balls = pd.read_excel(input_file, header=None)\n",
    "\n",
    "#print(lotto_balls)\n",
    "# Now let's do the lotto draw and assign teams to entrants\n",
    "curr_seed = 64 #initialize the first team to assign\n",
    "num_seeds = range(0,64)\n",
    "for s in num_seeds :\n",
    "    key_values = pd.concat([lotto_balls[0],lotto_balls.iloc[:,-1:]],axis = 1)\n",
    "    curr_seed_wts = dict(key_values.to_numpy())\n",
    "    winner = str(weighted_lottery(curr_seed_wts))\n",
    "    \n",
    "    # Assign winner to df_seeds entrant column\n",
    "    df_seeds.loc[df_seeds['Seed'] == curr_seed, 'Entrant'] = winner\n",
    "    \n",
    "    # Remove last column of weights because we don't need those weights for next seed\n",
    "    lotto_balls.drop(lotto_balls.columns[len(lotto_balls.columns)-1], axis=1, inplace=True)\n",
    "    \n",
    "    # Remove entrant from the lottery\n",
    "    lotto_balls.drop(lotto_balls[lotto_balls[0] == winner].index, inplace = True)\n",
    "        \n",
    "    curr_seed = curr_seed - 1\n",
    "\n",
    "            \n",
    "# output grid to excel spreadsheet\n",
    "out_file = 'lotto_winners.xlsx'\n",
    "df_seeds.to_excel(out_file)\n",
    "\n",
    "print(df_seeds.head(8))\n",
    "print ('\\r') \n",
    "print(df_seeds.tail(8))\n",
    "\n"
   ]
  },
  {
   "cell_type": "code",
   "execution_count": 39,
   "id": "indian-appreciation",
   "metadata": {},
   "outputs": [
    {
     "name": "stdout",
     "output_type": "stream",
     "text": [
      "\n"
     ]
    }
   ],
   "source": [
    "print ('\\r') \n",
    "  \n"
   ]
  },
  {
   "cell_type": "code",
   "execution_count": null,
   "id": "conceptual-syntax",
   "metadata": {},
   "outputs": [],
   "source": []
  }
 ],
 "metadata": {
  "kernelspec": {
   "display_name": "Python 3",
   "language": "python",
   "name": "python3"
  },
  "language_info": {
   "codemirror_mode": {
    "name": "ipython",
    "version": 3
   },
   "file_extension": ".py",
   "mimetype": "text/x-python",
   "name": "python",
   "nbconvert_exporter": "python",
   "pygments_lexer": "ipython3",
   "version": "3.8.5"
  }
 },
 "nbformat": 4,
 "nbformat_minor": 5
}
